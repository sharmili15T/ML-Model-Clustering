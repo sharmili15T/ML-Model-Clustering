{
 "cells": [
  {
   "cell_type": "markdown",
   "metadata": {},
   "source": [
    "Question 1: \n",
    "In driver_data.csv , you are given a dataset of delivery fleet driver data. For each driver we have two features: mean distance driven per day and the mean percentage of time a driver was >5 mph over the speed limit. \n",
    "Run the K-Means algorithm on this dataset and find the optimal number of clusters. What insights can you gather from these clusters? \n",
    "Perform Agglomerative clustering on the same dataset with an appropriate number of clusters. Plot the dendrogram. \n",
    "Compare the results from your K-Means model and your Hierarchical clustering model using silhouette scores. Which model is superior? \n",
    "Document your work and explain your reasoning. "
   ]
  },
  {
   "cell_type": "markdown",
   "metadata": {},
   "source": [
    "Question 2: \n",
    "In company_stocks.csv , you are given the historical stock price movement for 39 companies. This stock price movement is defined as the difference in dollar amount between the closing and opening prices for each trading day. The data was originally collected from Yahoo Finance for 2010 to 2015 duration. Each column represents a trading day and each row represents a company. Refer to the header and index for details about the trading day and companies. \n",
    "Apply any of the clustering methods that you have learned to partition companies into clusters. What insights can you gather from these clusters? Document your work and explain your reasoning.\n"
   ]
  },
  {
   "cell_type": "markdown",
   "metadata": {},
   "source": [
    "Question 3: Market Basket Analysis: <br>\n",
    "You own a supermarket mall and through membership cards , you have some basic data about your customers like Customer ID, age, gender, annual income and spending score.\n",
    "Spending Score is something you assign to the customer based on your defined parameters like customer behavior and purchasing data.\n",
    "\n",
    "Problem Statement\n",
    "You own the mall and want to understand the customers who can be easily converge so that the sense can be given to marketing team and plan the strategy accordingly.Who are your target customers with whom you can start marketing strategy?"
   ]
  }
 ],
 "metadata": {
  "kernelspec": {
   "display_name": "Python 3",
   "language": "python",
   "name": "python3"
  },
  "language_info": {
   "codemirror_mode": {
    "name": "ipython",
    "version": 3
   },
   "file_extension": ".py",
   "mimetype": "text/x-python",
   "name": "python",
   "nbconvert_exporter": "python",
   "pygments_lexer": "ipython3",
   "version": "3.6.5"
  }
 },
 "nbformat": 4,
 "nbformat_minor": 2
}
